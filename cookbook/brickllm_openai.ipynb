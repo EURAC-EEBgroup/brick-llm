{
  "nbformat": 4,
  "nbformat_minor": 0,
  "metadata": {
    "colab": {
      "provenance": []
    },
    "kernelspec": {
      "name": "python3",
      "display_name": "Python 3"
    },
    "language_info": {
      "name": "python"
    }
  },
  "cells": [
    {
      "cell_type": "markdown",
      "source": [
        "<a target=\"_blank\" href=\"https://colab.research.google.com/drive/1CPftjxShVV7NcA6msWlrY6QkqG0skSxR?usp=sharing\">\n",
        "  <img src=\"https://colab.research.google.com/assets/colab-badge.svg\" alt=\"Open In Colab\"/>\n",
        "</a>"
      ],
      "metadata": {
        "id": "ReBHQ5_834pZ"
      }
    },
    {
      "cell_type": "markdown",
      "source": [
        "## 🧱 Generate RDF files following the BrickSchema ontology using LLMs"
      ],
      "metadata": {
        "id": "jEkuKbcRrPcK"
      }
    },
    {
      "cell_type": "markdown",
      "source": [
        "<p align=\"center\">\n",
        "  <img src=\"https://raw.githubusercontent.com/EURAC-EEBgroup/brick-llm/refs/heads/main/docs/assets/brickllm_banner.png\" alt=\"BrickLLM\" style=\"width: 100%;\">\n",
        "</p>"
      ],
      "metadata": {
        "id": "C407gZZeXB8v"
      }
    },
    {
      "cell_type": "markdown",
      "source": [
        "### 🔧 Install `dependencies`"
      ],
      "metadata": {
        "id": "IzsyDXEWwPVt"
      }
    },
    {
      "cell_type": "code",
      "execution_count": 1,
      "metadata": {
        "id": "os_vm0MkIxr9"
      },
      "outputs": [],
      "source": [
        "%%capture\n",
        "!pip install brickllm"
      ]
    },
    {
      "cell_type": "markdown",
      "source": [
        "### 🔑 Import `OpenAI` API key"
      ],
      "metadata": {
        "id": "apBsL-L2KzM7"
      }
    },
    {
      "cell_type": "code",
      "source": [
        "import getpass\n",
        "import os\n",
        "\n",
        "if not os.environ.get(\"OPENAI_API_KEY\"):\n",
        "    os.environ[\"OPENAI_API_KEY\"] = getpass.getpass(\"OpenAI API key:\\n\")"
      ],
      "metadata": {
        "colab": {
          "base_uri": "https://localhost:8080/"
        },
        "id": "sffqFG2EJ8bI",
        "outputId": "742d0ca9-7b97-4ac6-9e3a-fc387d0b6f51"
      },
      "execution_count": 2,
      "outputs": [
        {
          "name": "stdout",
          "output_type": "stream",
          "text": [
            "OpenAI API key:\n",
            "··········\n"
          ]
        }
      ]
    },
    {
      "cell_type": "markdown",
      "source": [
        "### 🚀 Initialize `BrickSchemaGraph`, define your `building description` and generate the `TTL`"
      ],
      "metadata": {
        "id": "cDGH0b2DkY63"
      }
    },
    {
      "cell_type": "code",
      "source": [
        "from brickllm.graphs import BrickSchemaGraph\n",
        "\n",
        "# Create an instance of BrickSchemaGraph with a predefined provider\n",
        "brick_graph = BrickSchemaGraph(model=\"openai\")"
      ],
      "metadata": {
        "id": "PQI25GZvoCSk"
      },
      "execution_count": 5,
      "outputs": []
    },
    {
      "cell_type": "markdown",
      "source": [
        "Let's visualize the graph"
      ],
      "metadata": {
        "id": "2emVgXrNYoMH"
      }
    },
    {
      "cell_type": "code",
      "source": [
        "from IPython.display import Image\n",
        "\n",
        "# Display the graph structure\n",
        "brick_graph.display(filename=\"graph_openai.png\")\n",
        "\n",
        "# Display the PNG image in the notebook\n",
        "display(Image(filename=\"graph_openai.png\"))"
      ],
      "metadata": {
        "colab": {
          "base_uri": "https://localhost:8080/",
          "height": 746
        },
        "id": "a-LaxFznYnUS",
        "outputId": "f1e22a25-fdba-4686-c1d9-e8a84e914623"
      },
      "execution_count": 6,
      "outputs": [
        {
          "output_type": "display_data",
          "data": {
            "image/png": "[encoded data removed]",
            "text/plain": [
              "<IPython.core.display.Image object>"
            ]
          },
          "metadata": {}
        }
      ]
    },
    {
      "cell_type": "markdown",
      "source": [
        "We define the building description and run the graph"
      ],
      "metadata": {
        "id": "83LUej7bYw-i"
      }
    },
    {
      "cell_type": "code",
      "source": [
        "# Specify the user prompt\n",
        "building_description = \"\"\"\n",
        "I have a building located in Bolzano.\n",
        "It has 3 floors and each floor has 1 office.\n",
        "There are 2 rooms in each office and each room has three sensors:\n",
        "- Temperature sensor;\n",
        "- Humidity sensor;\n",
        "- CO2 sensor.\n",
        "\"\"\"\n",
        "\n",
        "# Prepare input data\n",
        "input_data = {\"user_prompt\": building_description}\n",
        "\n",
        "# Run the graph\n",
        "result = brick_graph.run(input_data=input_data, stream=False)"
      ],
      "metadata": {
        "colab": {
          "base_uri": "https://localhost:8080/"
        },
        "id": "V4TBdlGDYQ0a",
        "outputId": "47c44208-9239-437a-a204-4d6fa4d1845a"
      },
      "execution_count": 7,
      "outputs": [
        {
          "output_type": "stream",
          "name": "stderr",
          "text": [
            "2025-01-02 23:42:50,829 - BrickLLM - EURAC - 🔍 Getting elements from user prompt\n",
            "EURAC:BrickLLM:🔍 Getting elements from user prompt\n",
            "2025-01-02 23:42:51,788 - BrickLLM - EURAC - 📊 Getting children for each BrickSchema category in the element list\n",
            "EURAC:BrickLLM:📊 Getting children for each BrickSchema category in the element list\n",
            "2025-01-02 23:42:53,493 - BrickLLM - EURAC - 🔗 Getting relationships between building components\n",
            "EURAC:BrickLLM:🔗 Getting relationships between building components\n",
            "2025-01-02 23:42:58,172 - BrickLLM - EURAC - 📡 Checking for sensor presence\n",
            "EURAC:BrickLLM:📡 Checking for sensor presence\n",
            "2025-01-02 23:42:58,180 - BrickLLM - EURAC - 📝 Generating TTL from schema\n",
            "EURAC:BrickLLM:📝 Generating TTL from schema\n",
            "2025-01-02 23:43:12,883 - BrickLLM - EURAC - ✅ Validating TTL schema\n",
            "EURAC:BrickLLM:✅ Validating TTL schema\n"
          ]
        }
      ]
    },
    {
      "cell_type": "markdown",
      "source": [
        "Print the state of the graph execution"
      ],
      "metadata": {
        "id": "UpuWja_XY-bn"
      }
    },
    {
      "cell_type": "code",
      "source": [
        "import json\n",
        "print(json.dumps(result, indent=2))"
      ],
      "metadata": {
        "colab": {
          "base_uri": "https://localhost:8080/"
        },
        "id": "sJtsy4j0Y0d1",
        "outputId": "929415c2-d6a7-4170-f38c-dbaaed245428"
      },
      "execution_count": 11,
      "outputs": [
        {
          "output_type": "stream",
          "name": "stdout",
          "text": [
            "{\n",
            "  \"user_prompt\": \"\\nI have a building located in Bolzano.\\nIt has 3 floors and each floor has 1 office.\\nThere are 2 rooms in each office and each room has three sensors:\\n- Temperature sensor;\\n- Humidity sensor;\\n- CO2 sensor.\\n\",\n",
            "  \"elem_list\": [\n",
            "    \"Building\",\n",
            "    \"Floor\",\n",
            "    \"Space\",\n",
            "    \"Sensor\"\n",
            "  ],\n",
            "  \"elem_hierarchy\": {\n",
            "    \"Location\": {\n",
            "      \"Floor\": {\n",
            "        \"properties\": {}\n",
            "      },\n",
            "      \"Space\": {\n",
            "        \"Room\": {\n",
            "          \"Office\": {\n",
            "            \"properties\": {}\n",
            "          }\n",
            "        }\n",
            "      },\n",
            "      \"Building\": {\n",
            "        \"properties\": {}\n",
            "      }\n",
            "    },\n",
            "    \"Point\": {\n",
            "      \"Sensor\": {\n",
            "        \"Air_Quality_Sensor\": {\n",
            "          \"CO2_Sensor\": {\n",
            "            \"properties\": {\n",
            "              \"isPointOf\": {\n",
            "                \"constraint\": [\n",
            "                  \"Location\",\n",
            "                  \"Equipment\"\n",
            "                ]\n",
            "              }\n",
            "            }\n",
            "          }\n",
            "        },\n",
            "        \"Humidity_Sensor\": {\n",
            "          \"properties\": {\n",
            "            \"isPointOf\": {\n",
            "              \"constraint\": [\n",
            "                \"Location\",\n",
            "                \"Equipment\"\n",
            "              ]\n",
            "            }\n",
            "          }\n",
            "        },\n",
            "        \"Temperature_Sensor\": {\n",
            "          \"properties\": {\n",
            "            \"isPointOf\": {\n",
            "              \"constraint\": [\n",
            "                \"Location\",\n",
            "                \"Equipment\"\n",
            "              ]\n",
            "            }\n",
            "          }\n",
            "        }\n",
            "      }\n",
            "    }\n",
            "  },\n",
            "  \"rel_tree\": {\n",
            "    \"Building.1\": {\n",
            "      \"name\": \"Building.1\",\n",
            "      \"children\": [\n",
            "        {\n",
            "          \"name\": \"Floor.1\",\n",
            "          \"children\": [\n",
            "            {\n",
            "              \"name\": \"Office.1\",\n",
            "              \"children\": [\n",
            "                {\n",
            "                  \"name\": \"Room.1\",\n",
            "                  \"children\": [\n",
            "                    {\n",
            "                      \"name\": \"Temperature_Sensor.1\",\n",
            "                      \"children\": []\n",
            "                    },\n",
            "                    {\n",
            "                      \"name\": \"Humidity_Sensor.1\",\n",
            "                      \"children\": []\n",
            "                    },\n",
            "                    {\n",
            "                      \"name\": \"CO2_Sensor.1\",\n",
            "                      \"children\": []\n",
            "                    }\n",
            "                  ]\n",
            "                },\n",
            "                {\n",
            "                  \"name\": \"Room.2\",\n",
            "                  \"children\": [\n",
            "                    {\n",
            "                      \"name\": \"Temperature_Sensor.2\",\n",
            "                      \"children\": []\n",
            "                    },\n",
            "                    {\n",
            "                      \"name\": \"Humidity_Sensor.2\",\n",
            "                      \"children\": []\n",
            "                    },\n",
            "                    {\n",
            "                      \"name\": \"CO2_Sensor.2\",\n",
            "                      \"children\": []\n",
            "                    }\n",
            "                  ]\n",
            "                }\n",
            "              ]\n",
            "            }\n",
            "          ]\n",
            "        },\n",
            "        {\n",
            "          \"name\": \"Floor.2\",\n",
            "          \"children\": [\n",
            "            {\n",
            "              \"name\": \"Office.2\",\n",
            "              \"children\": [\n",
            "                {\n",
            "                  \"name\": \"Room.3\",\n",
            "                  \"children\": [\n",
            "                    {\n",
            "                      \"name\": \"Temperature_Sensor.3\",\n",
            "                      \"children\": []\n",
            "                    },\n",
            "                    {\n",
            "                      \"name\": \"Humidity_Sensor.3\",\n",
            "                      \"children\": []\n",
            "                    },\n",
            "                    {\n",
            "                      \"name\": \"CO2_Sensor.3\",\n",
            "                      \"children\": []\n",
            "                    }\n",
            "                  ]\n",
            "                },\n",
            "                {\n",
            "                  \"name\": \"Room.4\",\n",
            "                  \"children\": [\n",
            "                    {\n",
            "                      \"name\": \"Temperature_Sensor.4\",\n",
            "                      \"children\": []\n",
            "                    },\n",
            "                    {\n",
            "                      \"name\": \"Humidity_Sensor.4\",\n",
            "                      \"children\": []\n",
            "                    },\n",
            "                    {\n",
            "                      \"name\": \"CO2_Sensor.4\",\n",
            "                      \"children\": []\n",
            "                    }\n",
            "                  ]\n",
            "                }\n",
            "              ]\n",
            "            }\n",
            "          ]\n",
            "        },\n",
            "        {\n",
            "          \"name\": \"Floor.3\",\n",
            "          \"children\": [\n",
            "            {\n",
            "              \"name\": \"Office.3\",\n",
            "              \"children\": [\n",
            "                {\n",
            "                  \"name\": \"Room.5\",\n",
            "                  \"children\": [\n",
            "                    {\n",
            "                      \"name\": \"Temperature_Sensor.5\",\n",
            "                      \"children\": []\n",
            "                    },\n",
            "                    {\n",
            "                      \"name\": \"Humidity_Sensor.5\",\n",
            "                      \"children\": []\n",
            "                    },\n",
            "                    {\n",
            "                      \"name\": \"CO2_Sensor.5\",\n",
            "                      \"children\": []\n",
            "                    }\n",
            "                  ]\n",
            "                },\n",
            "                {\n",
            "                  \"name\": \"Room.6\",\n",
            "                  \"children\": [\n",
            "                    {\n",
            "                      \"name\": \"Temperature_Sensor.6\",\n",
            "                      \"children\": []\n",
            "                    },\n",
            "                    {\n",
            "                      \"name\": \"Humidity_Sensor.6\",\n",
            "                      \"children\": []\n",
            "                    },\n",
            "                    {\n",
            "                      \"name\": \"CO2_Sensor.6\",\n",
            "                      \"children\": []\n",
            "                    }\n",
            "                  ]\n",
            "                }\n",
            "              ]\n",
            "            }\n",
            "          ]\n",
            "        }\n",
            "      ]\n",
            "    }\n",
            "  },\n",
            "  \"sensors_dict\": {\n",
            "    \"Temperature_Sensor.1\": {\n",
            "      \"name\": \"Temperature_Sensor.1\",\n",
            "      \"uuid\": null,\n",
            "      \"unit\": null\n",
            "    },\n",
            "    \"Humidity_Sensor.1\": {\n",
            "      \"name\": \"Humidity_Sensor.1\",\n",
            "      \"uuid\": null,\n",
            "      \"unit\": null\n",
            "    },\n",
            "    \"CO2_Sensor.1\": {\n",
            "      \"name\": \"CO2_Sensor.1\",\n",
            "      \"uuid\": null,\n",
            "      \"unit\": null\n",
            "    },\n",
            "    \"Temperature_Sensor.2\": {\n",
            "      \"name\": \"Temperature_Sensor.2\",\n",
            "      \"uuid\": null,\n",
            "      \"unit\": null\n",
            "    },\n",
            "    \"Humidity_Sensor.2\": {\n",
            "      \"name\": \"Humidity_Sensor.2\",\n",
            "      \"uuid\": null,\n",
            "      \"unit\": null\n",
            "    },\n",
            "    \"CO2_Sensor.2\": {\n",
            "      \"name\": \"CO2_Sensor.2\",\n",
            "      \"uuid\": null,\n",
            "      \"unit\": null\n",
            "    },\n",
            "    \"Temperature_Sensor.3\": {\n",
            "      \"name\": \"Temperature_Sensor.3\",\n",
            "      \"uuid\": null,\n",
            "      \"unit\": null\n",
            "    },\n",
            "    \"Humidity_Sensor.3\": {\n",
            "      \"name\": \"Humidity_Sensor.3\",\n",
            "      \"uuid\": null,\n",
            "      \"unit\": null\n",
            "    },\n",
            "    \"CO2_Sensor.3\": {\n",
            "      \"name\": \"CO2_Sensor.3\",\n",
            "      \"uuid\": null,\n",
            "      \"unit\": null\n",
            "    },\n",
            "    \"Temperature_Sensor.4\": {\n",
            "      \"name\": \"Temperature_Sensor.4\",\n",
            "      \"uuid\": null,\n",
            "      \"unit\": null\n",
            "    },\n",
            "    \"Humidity_Sensor.4\": {\n",
            "      \"name\": \"Humidity_Sensor.4\",\n",
            "      \"uuid\": null,\n",
            "      \"unit\": null\n",
            "    },\n",
            "    \"CO2_Sensor.4\": {\n",
            "      \"name\": \"CO2_Sensor.4\",\n",
            "      \"uuid\": null,\n",
            "      \"unit\": null\n",
            "    },\n",
            "    \"Temperature_Sensor.5\": {\n",
            "      \"name\": \"Temperature_Sensor.5\",\n",
            "      \"uuid\": null,\n",
            "      \"unit\": null\n",
            "    },\n",
            "    \"Humidity_Sensor.5\": {\n",
            "      \"name\": \"Humidity_Sensor.5\",\n",
            "      \"uuid\": null,\n",
            "      \"unit\": null\n",
            "    },\n",
            "    \"CO2_Sensor.5\": {\n",
            "      \"name\": \"CO2_Sensor.5\",\n",
            "      \"uuid\": null,\n",
            "      \"unit\": null\n",
            "    },\n",
            "    \"Temperature_Sensor.6\": {\n",
            "      \"name\": \"Temperature_Sensor.6\",\n",
            "      \"uuid\": null,\n",
            "      \"unit\": null\n",
            "    },\n",
            "    \"Humidity_Sensor.6\": {\n",
            "      \"name\": \"Humidity_Sensor.6\",\n",
            "      \"uuid\": null,\n",
            "      \"unit\": null\n",
            "    },\n",
            "    \"CO2_Sensor.6\": {\n",
            "      \"name\": \"CO2_Sensor.6\",\n",
            "      \"uuid\": null,\n",
            "      \"unit\": null\n",
            "    }\n",
            "  },\n",
            "  \"is_valid\": true,\n",
            "  \"validation_report\": \"Validation Report\\nConforms: True\\n\",\n",
            "  \"validation_max_iter\": 1,\n",
            "  \"ttl_output\": \"@prefix bldg: <urn:Building#> .\\n@prefix brick: <https://brickschema.org/schema/Brick#> .\\n@prefix unit: <https://qudt.org/vocab/unit/> .\\n@prefix ref: <https://brickschema.org/schema/Brick/ref#> .\\n@prefix xsd: <http://www.w3.org/2001/XMLSchema#> .\\n\\nbldg:Bolzano_Building a brick:Building ;\\n    brick:hasLocation [ brick:value \\\"Bolzano\\\"^^xsd:string ] .\\n\\nbldg:Floor_1 a brick:Floor ;\\n    brick:isPartOf bldg:Bolzano_Building .\\n\\nbldg:Floor_2 a brick:Floor ;\\n    brick:isPartOf bldg:Bolzano_Building .\\n\\nbldg:Floor_3 a brick:Floor ;\\n    brick:isPartOf bldg:Bolzano_Building .\\n\\nbldg:Office_1_1 a brick:Office ;\\n    brick:isPartOf bldg:Floor_1 .\\n\\nbldg:Office_1_2 a brick:Office ;\\n    brick:isPartOf bldg:Floor_2 .\\n\\nbldg:Office_1_3 a brick:Office ;\\n    brick:isPartOf bldg:Floor_3 .\\n\\nbldg:Room_1_1_1 a brick:Room ;\\n    brick:isPartOf bldg:Office_1_1 .\\n\\nbldg:Room_1_1_2 a brick:Room ;\\n    brick:isPartOf bldg:Office_1_1 .\\n\\nbldg:Room_2_1_1 a brick:Room ;\\n    brick:isPartOf bldg:Office_1_2 .\\n\\nbldg:Room_2_1_2 a brick:Room ;\\n    brick:isPartOf bldg:Office_1_2 .\\n\\nbldg:Room_3_1_1 a brick:Room ;\\n    brick:isPartOf bldg:Office_1_3 .\\n\\nbldg:Room_3_1_2 a brick:Room ;\\n    brick:isPartOf bldg:Office_1_3 .\\n\\nbldg:Temperature_Sensor_1_1_1 a brick:Temperature_Sensor ;\\n    brick:isPointOf bldg:Room_1_1_1 .\\n\\nbldg:Humidity_Sensor_1_1_1 a brick:Humidity_Sensor ;\\n    brick:isPointOf bldg:Room_1_1_1 .\\n\\nbldg:CO2_Sensor_1_1_1 a brick:CO2_Sensor ;\\n    brick:isPointOf bldg:Room_1_1_1 .\\n\\nbldg:Temperature_Sensor_1_1_2 a brick:Temperature_Sensor ;\\n    brick:isPointOf bldg:Room_1_1_2 .\\n\\nbldg:Humidity_Sensor_1_1_2 a brick:Humidity_Sensor ;\\n    brick:isPointOf bldg:Room_1_1_2 .\\n\\nbldg:CO2_Sensor_1_1_2 a brick:CO2_Sensor ;\\n    brick:isPointOf bldg:Room_1_1_2 .\\n\\nbldg:Temperature_Sensor_2_1_1 a brick:Temperature_Sensor ;\\n    brick:isPointOf bldg:Room_2_1_1 .\\n\\nbldg:Humidity_Sensor_2_1_1 a brick:Humidity_Sensor ;\\n    brick:isPointOf bldg:Room_2_1_1 .\\n\\nbldg:CO2_Sensor_2_1_1 a brick:CO2_Sensor ;\\n    brick:isPointOf bldg:Room_2_1_1 .\\n\\nbldg:Temperature_Sensor_2_1_2 a brick:Temperature_Sensor ;\\n    brick:isPointOf bldg:Room_2_1_2 .\\n\\nbldg:Humidity_Sensor_2_1_2 a brick:Humidity_Sensor ;\\n    brick:isPointOf bldg:Room_2_1_2 .\\n\\nbldg:CO2_Sensor_2_1_2 a brick:CO2_Sensor ;\\n    brick:isPointOf bldg:Room_2_1_2 .\\n\\nbldg:Temperature_Sensor_3_1_1 a brick:Temperature_Sensor ;\\n    brick:isPointOf bldg:Room_3_1_1 .\\n\\nbldg:Humidity_Sensor_3_1_1 a brick:Humidity_Sensor ;\\n    brick:isPointOf bldg:Room_3_1_1 .\\n\\nbldg:CO2_Sensor_3_1_1 a brick:CO2_Sensor ;\\n    brick:isPointOf bldg:Room_3_1_1 .\\n\\nbldg:Temperature_Sensor_3_1_2 a brick:Temperature_Sensor ;\\n    brick:isPointOf bldg:Room_3_1_2 .\\n\\nbldg:Humidity_Sensor_3_1_2 a brick:Humidity_Sensor ;\\n    brick:isPointOf bldg:Room_3_1_2 .\\n\\nbldg:CO2_Sensor_3_1_2 a brick:CO2_Sensor ;\\n    brick:isPointOf bldg:Room_3_1_2 .\"\n",
            "}\n"
          ]
        }
      ]
    },
    {
      "cell_type": "markdown",
      "source": [
        "### 💾 Save generated `TTL` locally and generate `summary` + `keywords` (BONUS)"
      ],
      "metadata": {
        "id": "2as65QLypwdb"
      }
    },
    {
      "cell_type": "code",
      "source": [
        "# save the result to a file\n",
        "brick_graph.save_ttl_output(\"my_building.ttl\")"
      ],
      "metadata": {
        "id": "1lS9O1KOI51y"
      },
      "execution_count": 12,
      "outputs": []
    },
    {
      "cell_type": "code",
      "source": [
        "# Generate the building description from the generated ttl file\n",
        "building_description, key_elements = brick_graph.ttl_to_building_description()\n",
        "\n",
        "print(\"Generated building description:\")\n",
        "print(building_description)\n",
        "print(\"--------------------------------\")\n",
        "print(\"Generated key elements:\")\n",
        "print(key_elements)"
      ],
      "metadata": {
        "colab": {
          "base_uri": "https://localhost:8080/"
        },
        "id": "klD9QfWGZidc",
        "outputId": "9561c675-f6f4-4f22-f6d1-408899cb2b95"
      },
      "execution_count": 13,
      "outputs": [
        {
          "output_type": "stream",
          "name": "stdout",
          "text": [
            "Generated building description:\n",
            "The Bolzano Building is a multi-story facility located in Bolzano. It consists of three floors, each containing an office. Floor 1 includes Office 1_1, Floor 2 includes Office 1_2, and Floor 3 includes Office 1_3. Each office is further divided into two rooms. Office 1_1 contains Room 1_1_1 and Room 1_1_2, Office 1_2 contains Room 2_1_1 and Room 2_1_2, and Office 1_3 contains Room 3_1_1 and Room 3_1_2. Each room is equipped with a set of sensors: a Temperature Sensor, a Humidity Sensor, and a CO2 Sensor. These sensors are used to monitor the environmental conditions within each room.\n",
            "--------------------------------\n",
            "Generated key elements:\n",
            "['Building: Bolzano Building', 'Location: Bolzano', 'Floors: 3 (Floor 1, Floor 2, Floor 3)', 'Offices: 3 (Office 1_1, Office 1_2, Office 1_3)', 'Rooms: 6 (Room 1_1_1, Room 1_1_2, Room 2_1_1, Room 2_1_2, Room 3_1_1, Room 3_1_2)', 'Sensors: Temperature Sensor, Humidity Sensor, CO2 Sensor in each room']\n"
          ]
        }
      ]
    },
    {
      "cell_type": "markdown",
      "source": [
        "## 🔗 Resources"
      ],
      "metadata": {
        "id": "-1SZT8VzTZNd"
      }
    },
    {
      "cell_type": "markdown",
      "source": [
        "\n",
        "- 🐙 **GitHub:** [BrickLLM](https://github.com/EURAC-EEBgroup/brick-llm)  \n",
        "- 💼 **GitHub:** [BrickLLM App](https://github.com/EURAC-EEBgroup/BrickLLM-App)  \n",
        "- 🐦 **Documentation:** [here](https://eurac-eebgroup.github.io/brick-llm/)\n"
      ],
      "metadata": {
        "id": "dUi2LtMLRDDR"
      }
    }
  ]
}